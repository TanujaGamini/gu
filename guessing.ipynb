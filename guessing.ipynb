{
  "nbformat": 4,
  "nbformat_minor": 0,
  "metadata": {
    "colab": {
      "provenance": []
    },
    "kernelspec": {
      "name": "python3",
      "display_name": "Python 3"
    },
    "language_info": {
      "name": "python"
    }
  },
  "cells": [
    {
      "cell_type": "code",
      "execution_count": null,
      "metadata": {
        "colab": {
          "base_uri": "https://localhost:8080/"
        },
        "id": "5pHg_2bLOplE",
        "outputId": "833a66de-b53f-4a21-89db-ca7b17b1bf7a"
      },
      "outputs": [
        {
          "output_type": "stream",
          "name": "stdout",
          "text": [
            "What is your name? tanuja\n",
            "Good Luck !  tanuja\n",
            "Guess the characters\n",
            "_\n",
            "_\n",
            "_\n",
            "_\n",
            "_\n",
            "_\n",
            "_\n",
            "_\n",
            "_\n",
            "_\n",
            "_\n",
            "\n",
            "guess a character:t\n",
            "Wrong\n",
            "You have 11 more guesses\n",
            "_\n",
            "_\n",
            "_\n",
            "_\n",
            "_\n",
            "_\n",
            "_\n",
            "_\n",
            "_\n",
            "_\n",
            "_\n",
            "\n",
            "guess a character:a\n",
            "_\n",
            "_\n",
            "_\n",
            "_\n",
            "_\n",
            "a _\n",
            "_\n",
            "_\n",
            "_\n",
            "_\n",
            "\n"
          ]
        }
      ],
      "source": [
        "import random\n",
        "\n",
        "name = input(\"What is your name? \")\n",
        "\n",
        "print(\"Good Luck ! \", name)\n",
        "\n",
        "words = ['rainbow', 'computer', 'science', 'programming',\n",
        "         'python', 'mathematics', 'player', 'condition',\n",
        "         'reverse', 'water', 'board', 'geeks']\n",
        "\n",
        "word = random.choice(words)\n",
        "\n",
        "print(\"Guess the characters\")\n",
        "\n",
        "guesses = ''\n",
        "turns = 12\n",
        "\n",
        "while turns > 0:\n",
        "\n",
        "    failed = 0\n",
        "\n",
        "    for char in word:\n",
        "\n",
        "        if char in guesses:\n",
        "            print(char, end=\" \")\n",
        "\n",
        "        else:\n",
        "            print(\"_\")\n",
        "            failed += 1\n",
        "\n",
        "    if failed == 0:\n",
        "        print(\"You Win\")\n",
        "        print(\"The word is: \", word)\n",
        "        break\n",
        "\n",
        "    print()\n",
        "    guess = input(\"guess a character:\")\n",
        "\n",
        "    guesses += guess\n",
        "\n",
        "    if guess not in word:\n",
        "\n",
        "        turns -= 1\n",
        "        print(\"Wrong\")\n",
        "        print(\"You have\", + turns, 'more guesses')\n",
        "\n",
        "        if turns == 0:\n",
        "            print(\"You Loose\")"
      ]
    }
  ]
}